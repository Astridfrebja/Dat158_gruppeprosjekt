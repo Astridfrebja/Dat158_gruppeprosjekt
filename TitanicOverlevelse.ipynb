{
  "nbformat": 4,
  "nbformat_minor": 0,
  "metadata": {
    "colab": {
      "provenance": [],
      "include_colab_link": true
    },
    "kernelspec": {
      "name": "python3",
      "display_name": "Python 3"
    },
    "language_info": {
      "name": "python"
    }
  },
  "cells": [
    {
      "cell_type": "markdown",
      "metadata": {
        "id": "view-in-github",
        "colab_type": "text"
      },
      "source": [
        "<a href=\"https://colab.research.google.com/github/Astridfrebja/Dat158_gruppeprosjekt/blob/master/TitanicOverlevelse.ipynb\" target=\"_parent\"><img src=\"https://colab.research.google.com/assets/colab-badge.svg\" alt=\"Open In Colab\"/></a>"
      ]
    },
    {
      "cell_type": "code",
      "execution_count": null,
      "metadata": {
        "colab": {
          "base_uri": "https://localhost:8080/"
        },
        "id": "EU_YvYhB2TJb",
        "outputId": "cc27a7d7-bab2-48e4-a58b-9d2763cc4d0e"
      },
      "outputs": [
        {
          "output_type": "stream",
          "name": "stdout",
          "text": [
            "Første 5 rader av datasettet:\n",
            "   PassengerId  Survived  Pclass  \\\n",
            "0            1         0       3   \n",
            "1            2         1       1   \n",
            "2            3         1       3   \n",
            "3            4         1       1   \n",
            "4            5         0       3   \n",
            "\n",
            "                                                Name     Sex   Age  SibSp  \\\n",
            "0                            Braund, Mr. Owen Harris    male  22.0      1   \n",
            "1  Cumings, Mrs. John Bradley (Florence Briggs Th...  female  38.0      1   \n",
            "2                             Heikkinen, Miss. Laina  female  26.0      0   \n",
            "3       Futrelle, Mrs. Jacques Heath (Lily May Peel)  female  35.0      1   \n",
            "4                           Allen, Mr. William Henry    male  35.0      0   \n",
            "\n",
            "   Parch            Ticket     Fare Cabin Embarked  \n",
            "0      0         A/5 21171   7.2500   NaN        S  \n",
            "1      0          PC 17599  71.2833   C85        C  \n",
            "2      0  STON/O2. 3101282   7.9250   NaN        S  \n",
            "3      0            113803  53.1000  C123        S  \n",
            "4      0            373450   8.0500   NaN        S  \n",
            "\n",
            "Informasjon om manglende verdier:\n",
            "PassengerId      0\n",
            "Survived         0\n",
            "Pclass           0\n",
            "Name             0\n",
            "Sex              0\n",
            "Age            177\n",
            "SibSp            0\n",
            "Parch            0\n",
            "Ticket           0\n",
            "Fare             0\n",
            "Cabin          687\n",
            "Embarked         2\n",
            "dtype: int64\n"
          ]
        }
      ],
      "source": [
        "import pandas as pd\n",
        "import numpy as np\n",
        "from sklearn.model_selection import train_test_split\n",
        "from sklearn.linear_model import LogisticRegression\n",
        "from sklearn.ensemble import RandomForestClassifier\n",
        "from sklearn.metrics import accuracy_score, confusion_matrix\n",
        "import matplotlib.pyplot as plt\n",
        "import seaborn as sns\n",
        "#Confusion matrix\n",
        "from sklearn.metrics import confusion_matrix, ConfusionMatrixDisplay, classification_report\n",
        "\n",
        "\n",
        "# Laster inn datasettet\n",
        "df = pd.read_csv('train.csv')\n",
        "\n",
        "print(\"Første 5 rader av datasettet:\")\n",
        "print(df.head())\n",
        "\n",
        "print(\"\\nInformasjon om manglende verdier:\")\n",
        "print(df.isnull().sum())"
      ]
    },
    {
      "cell_type": "code",
      "source": [
        "# Fyller manglende 'Age' med medianen\n",
        "median_age = df['Age'].median()\n",
        "df['Age'].fillna(median_age, inplace=True)\n",
        "\n",
        "# Fyller manglende 'Embarked' med den mest frekvente verdien (Mode)\n",
        "most_frequent_embarked = df['Embarked'].mode()[0]\n",
        "df['Embarked'].fillna(most_frequent_embarked, inplace=True)\n",
        "\n",
        "# Dropper trekk vi ikke skal bruke, eller som har for mange manglende verdier\n",
        "df.drop(['Cabin', 'Ticket', 'Name', 'PassengerId'], axis=1, inplace=True)\n",
        "\n",
        "print(\"Sjekk for manglende verdier etter rensing (skal være 0):\")\n",
        "print(df.isnull().sum().sum())"
      ],
      "metadata": {
        "colab": {
          "base_uri": "https://localhost:8080/"
        },
        "id": "YF1CBg3a3Uod",
        "outputId": "ff523f83-cdfa-4883-a03a-912cceb20c92"
      },
      "execution_count": null,
      "outputs": [
        {
          "output_type": "stream",
          "name": "stdout",
          "text": [
            "Sjekk for manglende verdier etter rensing (skal være 0):\n",
            "0\n"
          ]
        },
        {
          "output_type": "stream",
          "name": "stderr",
          "text": [
            "/tmp/ipython-input-2053209734.py:3: FutureWarning: A value is trying to be set on a copy of a DataFrame or Series through chained assignment using an inplace method.\n",
            "The behavior will change in pandas 3.0. This inplace method will never work because the intermediate object on which we are setting values always behaves as a copy.\n",
            "\n",
            "For example, when doing 'df[col].method(value, inplace=True)', try using 'df.method({col: value}, inplace=True)' or df[col] = df[col].method(value) instead, to perform the operation inplace on the original object.\n",
            "\n",
            "\n",
            "  df['Age'].fillna(median_age, inplace=True)\n",
            "/tmp/ipython-input-2053209734.py:7: FutureWarning: A value is trying to be set on a copy of a DataFrame or Series through chained assignment using an inplace method.\n",
            "The behavior will change in pandas 3.0. This inplace method will never work because the intermediate object on which we are setting values always behaves as a copy.\n",
            "\n",
            "For example, when doing 'df[col].method(value, inplace=True)', try using 'df.method({col: value}, inplace=True)' or df[col] = df[col].method(value) instead, to perform the operation inplace on the original object.\n",
            "\n",
            "\n",
            "  df['Embarked'].fillna(most_frequent_embarked, inplace=True)\n"
          ]
        }
      ]
    },
    {
      "cell_type": "code",
      "source": [
        "# Konverterer kategoriske variabler (Sex, Embarked, Pclass) til numeriske\n",
        "# Pclass er kategorisk selv om det er tall (1., 2., 3. klasse)\n",
        "df = pd.get_dummies(df, columns=['Sex', 'Embarked', 'Pclass'], drop_first=True, dtype=int)\n",
        "\n",
        "print(\"\\nData etter One-Hot Encoding:\")\n",
        "print(df.head())"
      ],
      "metadata": {
        "colab": {
          "base_uri": "https://localhost:8080/"
        },
        "id": "r1E2Nrjw3buD",
        "outputId": "6511f7ac-71dd-4e70-a173-eb3b58027482"
      },
      "execution_count": null,
      "outputs": [
        {
          "output_type": "stream",
          "name": "stdout",
          "text": [
            "\n",
            "Data etter One-Hot Encoding:\n",
            "   Survived   Age  SibSp  Parch     Fare  Sex_male  Embarked_Q  Embarked_S  \\\n",
            "0         0  22.0      1      0   7.2500         1           0           1   \n",
            "1         1  38.0      1      0  71.2833         0           0           0   \n",
            "2         1  26.0      0      0   7.9250         0           0           1   \n",
            "3         1  35.0      1      0  53.1000         0           0           1   \n",
            "4         0  35.0      0      0   8.0500         1           0           1   \n",
            "\n",
            "   Pclass_2  Pclass_3  \n",
            "0         0         1  \n",
            "1         0         0  \n",
            "2         0         1  \n",
            "3         0         0  \n",
            "4         0         1  \n"
          ]
        }
      ]
    },
    {
      "cell_type": "code",
      "source": [
        "# Definerer Features (X) og Target (y)\n",
        "X = df.drop('Survived', axis=1) # Alle kolonner unntatt 'Survived'\n",
        "y = df['Survived']             # Kolonnen vi skal forutsi\n",
        "\n",
        "#La inn slik at vi kan se data før test\n",
        "print(\"\\nFeatures (X) - de første radene:\")\n",
        "print(X.head())\n",
        "\n",
        "print(\"\\nTarget (y) - de første verdiene:\")\n",
        "print(y.head())\n",
        "\n",
        "\n",
        "# Splitter dataene i trenings- (80%) og testsett (20%)\n",
        "X_train, X_test, y_train, y_test = train_test_split(X, y, test_size=0.2, random_state=42)\n",
        "\n",
        "print(f\"\\nTrening sett størrelse: {X_train.shape[0]} rader\")\n",
        "print(f\"Test sett størrelse: {X_test.shape[0]} rader\")\n",
        "\n",
        "# --- Logistisk Regresjon ---\n",
        "lr_model = LogisticRegression(max_iter=200, random_state=42)\n",
        "lr_model.fit(X_train, y_train)\n",
        "lr_pred = lr_model.predict(X_test)\n",
        "lr_accuracy = accuracy_score(y_test, lr_pred)\n",
        "print(f\"\\nLogistisk Regresjon Nøyaktighet: {lr_accuracy*100:.2f}%\")\n",
        "\n",
        "# --- Random Forest ---\n",
        "rf_model = RandomForestClassifier(n_estimators=100, max_depth=5, random_state=42)\n",
        "rf_model.fit(X_train, y_train)\n",
        "rf_pred = rf_model.predict(X_test)\n",
        "rf_accuracy = accuracy_score(y_test, rf_pred)\n",
        "print(f\"\\nRandom Forest Nøyaktighet: {rf_accuracy*100:.2f}%\")\n",
        "\n",
        "\n",
        "\n",
        "#Confusion matrix\n",
        "cm = confusion_matrix(y_test, lr_pred)\n",
        "print(\"\\nConfusion Matrix for Random forest: \")\n",
        "print(cm)\n",
        "\n",
        "\n",
        "#Visualize the matrix\n",
        "disp = ConfusionMatrixDisplay(confusion_matrix=cm, display_labels=rf_model.classes_)\n",
        "disp.plot(cmap='Blues')\n",
        "plt.title('Confusion Matrix for Random Forest')\n",
        "plt.show()\n",
        "\n",
        "#Classification report\n",
        "print(\"\\nClassification Report for Random Forest:\")\n",
        "print(classification_report(y_test, rf_pred))"
      ],
      "metadata": {
        "colab": {
          "base_uri": "https://localhost:8080/",
          "height": 1000
        },
        "id": "soZfIEjh3eda",
        "outputId": "8ed6db85-3496-48e3-f18d-fa11080b4231"
      },
      "execution_count": null,
      "outputs": [
        {
          "output_type": "stream",
          "name": "stdout",
          "text": [
            "\n",
            "Features (X) - de første radene:\n",
            "    Age  SibSp  Parch     Fare  Sex_male  Embarked_Q  Embarked_S  Pclass_2  \\\n",
            "0  22.0      1      0   7.2500         1           0           1         0   \n",
            "1  38.0      1      0  71.2833         0           0           0         0   \n",
            "2  26.0      0      0   7.9250         0           0           1         0   \n",
            "3  35.0      1      0  53.1000         0           0           1         0   \n",
            "4  35.0      0      0   8.0500         1           0           1         0   \n",
            "\n",
            "   Pclass_3  \n",
            "0         1  \n",
            "1         0  \n",
            "2         1  \n",
            "3         0  \n",
            "4         1  \n",
            "\n",
            "Target (y) - de første verdiene:\n",
            "0    0\n",
            "1    1\n",
            "2    1\n",
            "3    1\n",
            "4    0\n",
            "Name: Survived, dtype: int64\n",
            "\n",
            "Trening sett størrelse: 712 rader\n",
            "Test sett størrelse: 179 rader\n",
            "\n",
            "Logistisk Regresjon Nøyaktighet: 79.89%\n"
          ]
        },
        {
          "output_type": "stream",
          "name": "stderr",
          "text": [
            "/usr/local/lib/python3.12/dist-packages/sklearn/linear_model/_logistic.py:465: ConvergenceWarning: lbfgs failed to converge (status=1):\n",
            "STOP: TOTAL NO. OF ITERATIONS REACHED LIMIT.\n",
            "\n",
            "Increase the number of iterations (max_iter) or scale the data as shown in:\n",
            "    https://scikit-learn.org/stable/modules/preprocessing.html\n",
            "Please also refer to the documentation for alternative solver options:\n",
            "    https://scikit-learn.org/stable/modules/linear_model.html#logistic-regression\n",
            "  n_iter_i = _check_optimize_result(\n"
          ]
        },
        {
          "output_type": "stream",
          "name": "stdout",
          "text": [
            "\n",
            "Random Forest Nøyaktighet: 81.56%\n",
            "\n",
            "Confusion Matrix for Random forest: \n",
            "[[90 15]\n",
            " [21 53]]\n"
          ]
        },
        {
          "output_type": "display_data",
          "data": {
            "text/plain": [
              "<Figure size 640x480 with 2 Axes>"
            ],
            "image/png": "[encoded data removed]"
          },
          "metadata": {}
        },
        {
          "output_type": "stream",
          "name": "stdout",
          "text": [
            "\n",
            "Classification Report for Random Forest:\n",
            "              precision    recall  f1-score   support\n",
            "\n",
            "           0       0.81      0.90      0.85       105\n",
            "           1       0.84      0.69      0.76        74\n",
            "\n",
            "    accuracy                           0.82       179\n",
            "   macro avg       0.82      0.80      0.80       179\n",
            "weighted avg       0.82      0.82      0.81       179\n",
            "\n"
          ]
        }
      ]
    },
    {
      "cell_type": "code",
      "source": [
        "import pandas as pd\n",
        "# Sørg for at X_train er definert (fra blokk 3) og inneholder trekk-kolonnene dine\n",
        "\n",
        "# Henter viktigheten fra den trente Random Forest-modellen\n",
        "feature_importances = pd.Series(rf_model.feature_importances_, index=X_train.columns)\n",
        "\n",
        "print(\"\\n-------------------------------------------------------------\")\n",
        "print(\"De 5 viktigste faktorene for overlevelse (Random Forest):\")\n",
        "# Skriver ut de 5 viktigste faktorene\n",
        "print(feature_importances.nlargest(5))\n",
        "\n",
        "# Valgfritt: Visualiser alle faktorene\n",
        "plt.figure(figsize=(10, 6))\n",
        "feature_importances.sort_values(ascending=False).plot(kind='bar')\n",
        "plt.title('Viktigheten av Trekk for Titanic-overlevelse')\n",
        "plt.ylabel('Viktighetspoeng')\n",
        "plt.show()"
      ],
      "metadata": {
        "colab": {
          "base_uri": "https://localhost:8080/",
          "height": 780
        },
        "id": "pMYO490j3z4e",
        "outputId": "8d59dde6-b099-4772-c43b-6b66210dd40a"
      },
      "execution_count": null,
      "outputs": [
        {
          "output_type": "stream",
          "name": "stdout",
          "text": [
            "\n",
            "-------------------------------------------------------------\n",
            "De 5 viktigste faktorene for overlevelse (Random Forest):\n",
            "Sex_male    0.451826\n",
            "Fare        0.183911\n",
            "Pclass_3    0.119495\n",
            "Age         0.104412\n",
            "SibSp       0.051611\n",
            "dtype: float64\n"
          ]
        },
        {
          "output_type": "display_data",
          "data": {
            "text/plain": [
              "<Figure size 1000x600 with 1 Axes>"
            ],
            "image/png": "[encoded data removed]"
          },
          "metadata": {}
        }
      ]
    },
    {
      "cell_type": "code",
      "source": [
        "import pickle\n",
        "with open('titanic_rf_model.pkl', 'wb') as f:\n",
        "    pickle.dump(rf_model, f)\n",
        "print(\"Modellen er lagret som 'titanic_rf_model.pkl'.\")"
      ],
      "metadata": {
        "colab": {
          "base_uri": "https://localhost:8080/"
        },
        "id": "S7b3u8Jc34vx",
        "outputId": "2e23a3e0-540d-4c4f-9444-bedf5669e162"
      },
      "execution_count": null,
      "outputs": [
        {
          "output_type": "stream",
          "name": "stdout",
          "text": [
            "Modellen er lagret som 'titanic_rf_model.pkl'.\n"
          ]
        }
      ]
    },
    {
      "cell_type": "code",
      "source": [
        "from google.colab import files\n",
        "\n",
        "# Laster ned den lagrede Random Forest-modellen\n",
        "files.download('titanic_rf_model.pkl')"
      ],
      "metadata": {
        "id": "tW90lOdF4N6K",
        "outputId": "f89372dd-2bcf-4062-9a41-dab912fbaec7",
        "colab": {
          "base_uri": "https://localhost:8080/",
          "height": 17
        }
      },
      "execution_count": null,
      "outputs": [
        {
          "output_type": "display_data",
          "data": {
            "text/plain": [
              "<IPython.core.display.Javascript object>"
            ],
            "application/javascript": [
              "\n",
              "    async function download(id, filename, size) {\n",
              "      if (!google.colab.kernel.accessAllowed) {\n",
              "        return;\n",
              "      }\n",
              "      const div = document.createElement('div');\n",
              "      const label = document.createElement('label');\n",
              "      label.textContent = `Downloading \"${filename}\": `;\n",
              "      div.appendChild(label);\n",
              "      const progress = document.createElement('progress');\n",
              "      progress.max = size;\n",
              "      div.appendChild(progress);\n",
              "      document.body.appendChild(div);\n",
              "\n",
              "      const buffers = [];\n",
              "      let downloaded = 0;\n",
              "\n",
              "      const channel = await google.colab.kernel.comms.open(id);\n",
              "      // Send a message to notify the kernel that we're ready.\n",
              "      channel.send({})\n",
              "\n",
              "      for await (const message of channel.messages) {\n",
              "        // Send a message to notify the kernel that we're ready.\n",
              "        channel.send({})\n",
              "        if (message.buffers) {\n",
              "          for (const buffer of message.buffers) {\n",
              "            buffers.push(buffer);\n",
              "            downloaded += buffer.byteLength;\n",
              "            progress.value = downloaded;\n",
              "          }\n",
              "        }\n",
              "      }\n",
              "      const blob = new Blob(buffers, {type: 'application/binary'});\n",
              "      const a = document.createElement('a');\n",
              "      a.href = window.URL.createObjectURL(blob);\n",
              "      a.download = filename;\n",
              "      div.appendChild(a);\n",
              "      a.click();\n",
              "      div.remove();\n",
              "    }\n",
              "  "
            ]
          },
          "metadata": {}
        },
        {
          "output_type": "display_data",
          "data": {
            "text/plain": [
              "<IPython.core.display.Javascript object>"
            ],
            "application/javascript": [
              "download(\"download_ddfaa502-19d4-4cfb-be2f-864ddc78c294\", \"titanic_rf_model.pkl\", 402625)"
            ]
          },
          "metadata": {}
        }
      ]
    },
    {
      "cell_type": "markdown",
      "source": [],
      "metadata": {
        "id": "KMGd2jMf3zWv"
      }
    }
  ]
}